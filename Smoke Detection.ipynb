{
 "cells": [
  {
   "cell_type": "markdown",
   "metadata": {},
   "source": [
    "# Below are the library use for Data explorationa and visualization"
   ]
  },
  {
   "cell_type": "code",
   "execution_count": 1,
   "metadata": {},
   "outputs": [
    {
     "name": "stderr",
     "output_type": "stream",
     "text": [
      "C:\\Users\\Piyush\\Anaconda3\\lib\\site-packages\\statsmodels\\tools\\_testing.py:19: FutureWarning: pandas.util.testing is deprecated. Use the functions in the public API at pandas.testing instead.\n",
      "  import pandas.util.testing as tm\n"
     ]
    }
   ],
   "source": [
    "import numpy as np\n",
    "import pandas as pd\n",
    "import matplotlib.pyplot as plt\n",
    "import seaborn as sns"
   ]
  },
  {
   "cell_type": "markdown",
   "metadata": {},
   "source": [
    "# To insert data file"
   ]
  },
  {
   "cell_type": "code",
   "execution_count": 2,
   "metadata": {},
   "outputs": [],
   "source": [
    "data=pd.read_csv(\"E:\\T v\\smoke_detection_iot.csv\")"
   ]
  },
  {
   "cell_type": "code",
   "execution_count": 3,
   "metadata": {},
   "outputs": [
    {
     "data": {
      "text/html": [
       "<div>\n",
       "<style scoped>\n",
       "    .dataframe tbody tr th:only-of-type {\n",
       "        vertical-align: middle;\n",
       "    }\n",
       "\n",
       "    .dataframe tbody tr th {\n",
       "        vertical-align: top;\n",
       "    }\n",
       "\n",
       "    .dataframe thead th {\n",
       "        text-align: right;\n",
       "    }\n",
       "</style>\n",
       "<table border=\"1\" class=\"dataframe\">\n",
       "  <thead>\n",
       "    <tr style=\"text-align: right;\">\n",
       "      <th></th>\n",
       "      <th>Unnamed: 0</th>\n",
       "      <th>UTC</th>\n",
       "      <th>Temperature[C]</th>\n",
       "      <th>Humidity[%]</th>\n",
       "      <th>TVOC[ppb]</th>\n",
       "      <th>eCO2[ppm]</th>\n",
       "      <th>Raw H2</th>\n",
       "      <th>Raw Ethanol</th>\n",
       "      <th>Pressure[hPa]</th>\n",
       "      <th>PM1.0</th>\n",
       "      <th>PM2.5</th>\n",
       "      <th>NC0.5</th>\n",
       "      <th>NC1.0</th>\n",
       "      <th>NC2.5</th>\n",
       "      <th>CNT</th>\n",
       "      <th>Fire Alarm</th>\n",
       "    </tr>\n",
       "  </thead>\n",
       "  <tbody>\n",
       "    <tr>\n",
       "      <th>0</th>\n",
       "      <td>0</td>\n",
       "      <td>1654733331</td>\n",
       "      <td>20.000</td>\n",
       "      <td>57.36</td>\n",
       "      <td>0</td>\n",
       "      <td>400</td>\n",
       "      <td>12306</td>\n",
       "      <td>18520</td>\n",
       "      <td>939.735</td>\n",
       "      <td>0.0</td>\n",
       "      <td>0.0</td>\n",
       "      <td>0.0</td>\n",
       "      <td>0.0</td>\n",
       "      <td>0.0</td>\n",
       "      <td>0</td>\n",
       "      <td>0</td>\n",
       "    </tr>\n",
       "    <tr>\n",
       "      <th>1</th>\n",
       "      <td>1</td>\n",
       "      <td>1654733332</td>\n",
       "      <td>20.015</td>\n",
       "      <td>56.67</td>\n",
       "      <td>0</td>\n",
       "      <td>400</td>\n",
       "      <td>12345</td>\n",
       "      <td>18651</td>\n",
       "      <td>939.744</td>\n",
       "      <td>0.0</td>\n",
       "      <td>0.0</td>\n",
       "      <td>0.0</td>\n",
       "      <td>0.0</td>\n",
       "      <td>0.0</td>\n",
       "      <td>1</td>\n",
       "      <td>0</td>\n",
       "    </tr>\n",
       "    <tr>\n",
       "      <th>2</th>\n",
       "      <td>2</td>\n",
       "      <td>1654733333</td>\n",
       "      <td>20.029</td>\n",
       "      <td>55.96</td>\n",
       "      <td>0</td>\n",
       "      <td>400</td>\n",
       "      <td>12374</td>\n",
       "      <td>18764</td>\n",
       "      <td>939.738</td>\n",
       "      <td>0.0</td>\n",
       "      <td>0.0</td>\n",
       "      <td>0.0</td>\n",
       "      <td>0.0</td>\n",
       "      <td>0.0</td>\n",
       "      <td>2</td>\n",
       "      <td>0</td>\n",
       "    </tr>\n",
       "    <tr>\n",
       "      <th>3</th>\n",
       "      <td>3</td>\n",
       "      <td>1654733334</td>\n",
       "      <td>20.044</td>\n",
       "      <td>55.28</td>\n",
       "      <td>0</td>\n",
       "      <td>400</td>\n",
       "      <td>12390</td>\n",
       "      <td>18849</td>\n",
       "      <td>939.736</td>\n",
       "      <td>0.0</td>\n",
       "      <td>0.0</td>\n",
       "      <td>0.0</td>\n",
       "      <td>0.0</td>\n",
       "      <td>0.0</td>\n",
       "      <td>3</td>\n",
       "      <td>0</td>\n",
       "    </tr>\n",
       "    <tr>\n",
       "      <th>4</th>\n",
       "      <td>4</td>\n",
       "      <td>1654733335</td>\n",
       "      <td>20.059</td>\n",
       "      <td>54.69</td>\n",
       "      <td>0</td>\n",
       "      <td>400</td>\n",
       "      <td>12403</td>\n",
       "      <td>18921</td>\n",
       "      <td>939.744</td>\n",
       "      <td>0.0</td>\n",
       "      <td>0.0</td>\n",
       "      <td>0.0</td>\n",
       "      <td>0.0</td>\n",
       "      <td>0.0</td>\n",
       "      <td>4</td>\n",
       "      <td>0</td>\n",
       "    </tr>\n",
       "  </tbody>\n",
       "</table>\n",
       "</div>"
      ],
      "text/plain": [
       "   Unnamed: 0         UTC  Temperature[C]  Humidity[%]  TVOC[ppb]  eCO2[ppm]  \\\n",
       "0           0  1654733331          20.000        57.36          0        400   \n",
       "1           1  1654733332          20.015        56.67          0        400   \n",
       "2           2  1654733333          20.029        55.96          0        400   \n",
       "3           3  1654733334          20.044        55.28          0        400   \n",
       "4           4  1654733335          20.059        54.69          0        400   \n",
       "\n",
       "   Raw H2  Raw Ethanol  Pressure[hPa]  PM1.0  PM2.5  NC0.5  NC1.0  NC2.5  CNT  \\\n",
       "0   12306        18520        939.735    0.0    0.0    0.0    0.0    0.0    0   \n",
       "1   12345        18651        939.744    0.0    0.0    0.0    0.0    0.0    1   \n",
       "2   12374        18764        939.738    0.0    0.0    0.0    0.0    0.0    2   \n",
       "3   12390        18849        939.736    0.0    0.0    0.0    0.0    0.0    3   \n",
       "4   12403        18921        939.744    0.0    0.0    0.0    0.0    0.0    4   \n",
       "\n",
       "   Fire Alarm  \n",
       "0           0  \n",
       "1           0  \n",
       "2           0  \n",
       "3           0  \n",
       "4           0  "
      ]
     },
     "execution_count": 3,
     "metadata": {},
     "output_type": "execute_result"
    }
   ],
   "source": [
    "data.head()"
   ]
  },
  {
   "cell_type": "code",
   "execution_count": 4,
   "metadata": {},
   "outputs": [
    {
     "data": {
      "text/plain": [
       "(62630, 16)"
      ]
     },
     "execution_count": 4,
     "metadata": {},
     "output_type": "execute_result"
    }
   ],
   "source": [
    "data.shape"
   ]
  },
  {
   "cell_type": "code",
   "execution_count": 5,
   "metadata": {},
   "outputs": [
    {
     "data": {
      "text/plain": [
       "Unnamed: 0        0\n",
       "UTC               0\n",
       "Temperature[C]    0\n",
       "Humidity[%]       0\n",
       "TVOC[ppb]         0\n",
       "eCO2[ppm]         0\n",
       "Raw H2            0\n",
       "Raw Ethanol       0\n",
       "Pressure[hPa]     0\n",
       "PM1.0             0\n",
       "PM2.5             0\n",
       "NC0.5             0\n",
       "NC1.0             0\n",
       "NC2.5             0\n",
       "CNT               0\n",
       "Fire Alarm        0\n",
       "dtype: int64"
      ]
     },
     "execution_count": 5,
     "metadata": {},
     "output_type": "execute_result"
    }
   ],
   "source": [
    "data.isnull().sum()"
   ]
  },
  {
   "cell_type": "code",
   "execution_count": 6,
   "metadata": {},
   "outputs": [
    {
     "name": "stdout",
     "output_type": "stream",
     "text": [
      "<class 'pandas.core.frame.DataFrame'>\n",
      "RangeIndex: 62630 entries, 0 to 62629\n",
      "Data columns (total 16 columns):\n",
      " #   Column          Non-Null Count  Dtype  \n",
      "---  ------          --------------  -----  \n",
      " 0   Unnamed: 0      62630 non-null  int64  \n",
      " 1   UTC             62630 non-null  int64  \n",
      " 2   Temperature[C]  62630 non-null  float64\n",
      " 3   Humidity[%]     62630 non-null  float64\n",
      " 4   TVOC[ppb]       62630 non-null  int64  \n",
      " 5   eCO2[ppm]       62630 non-null  int64  \n",
      " 6   Raw H2          62630 non-null  int64  \n",
      " 7   Raw Ethanol     62630 non-null  int64  \n",
      " 8   Pressure[hPa]   62630 non-null  float64\n",
      " 9   PM1.0           62630 non-null  float64\n",
      " 10  PM2.5           62630 non-null  float64\n",
      " 11  NC0.5           62630 non-null  float64\n",
      " 12  NC1.0           62630 non-null  float64\n",
      " 13  NC2.5           62630 non-null  float64\n",
      " 14  CNT             62630 non-null  int64  \n",
      " 15  Fire Alarm      62630 non-null  int64  \n",
      "dtypes: float64(8), int64(8)\n",
      "memory usage: 7.6 MB\n"
     ]
    }
   ],
   "source": [
    "data.info()"
   ]
  },
  {
   "cell_type": "code",
   "execution_count": 7,
   "metadata": {},
   "outputs": [
    {
     "data": {
      "text/plain": [
       "Unnamed: 0        62630\n",
       "UTC               62630\n",
       "Temperature[C]    21672\n",
       "Humidity[%]        3890\n",
       "TVOC[ppb]          1966\n",
       "eCO2[ppm]          1713\n",
       "Raw H2             1830\n",
       "Raw Ethanol        2659\n",
       "Pressure[hPa]      2213\n",
       "PM1.0              1337\n",
       "PM2.5              1351\n",
       "NC0.5              3093\n",
       "NC1.0              4113\n",
       "NC2.5              1161\n",
       "CNT               24994\n",
       "Fire Alarm            2\n",
       "dtype: int64"
      ]
     },
     "execution_count": 7,
     "metadata": {},
     "output_type": "execute_result"
    }
   ],
   "source": [
    "data.nunique()"
   ]
  },
  {
   "cell_type": "code",
   "execution_count": 8,
   "metadata": {},
   "outputs": [
    {
     "data": {
      "text/html": [
       "<div>\n",
       "<style scoped>\n",
       "    .dataframe tbody tr th:only-of-type {\n",
       "        vertical-align: middle;\n",
       "    }\n",
       "\n",
       "    .dataframe tbody tr th {\n",
       "        vertical-align: top;\n",
       "    }\n",
       "\n",
       "    .dataframe thead th {\n",
       "        text-align: right;\n",
       "    }\n",
       "</style>\n",
       "<table border=\"1\" class=\"dataframe\">\n",
       "  <thead>\n",
       "    <tr style=\"text-align: right;\">\n",
       "      <th></th>\n",
       "      <th>Unnamed: 0</th>\n",
       "      <th>UTC</th>\n",
       "      <th>Temperature[C]</th>\n",
       "      <th>Humidity[%]</th>\n",
       "      <th>TVOC[ppb]</th>\n",
       "      <th>eCO2[ppm]</th>\n",
       "      <th>Raw H2</th>\n",
       "      <th>Raw Ethanol</th>\n",
       "      <th>Pressure[hPa]</th>\n",
       "      <th>PM1.0</th>\n",
       "      <th>PM2.5</th>\n",
       "      <th>NC0.5</th>\n",
       "      <th>NC1.0</th>\n",
       "      <th>NC2.5</th>\n",
       "      <th>CNT</th>\n",
       "      <th>Fire Alarm</th>\n",
       "    </tr>\n",
       "  </thead>\n",
       "  <tbody>\n",
       "    <tr>\n",
       "      <th>count</th>\n",
       "      <td>62630.000000</td>\n",
       "      <td>6.263000e+04</td>\n",
       "      <td>62630.000000</td>\n",
       "      <td>62630.000000</td>\n",
       "      <td>62630.000000</td>\n",
       "      <td>62630.000000</td>\n",
       "      <td>62630.000000</td>\n",
       "      <td>62630.000000</td>\n",
       "      <td>62630.000000</td>\n",
       "      <td>62630.000000</td>\n",
       "      <td>62630.000000</td>\n",
       "      <td>62630.000000</td>\n",
       "      <td>62630.000000</td>\n",
       "      <td>62630.000000</td>\n",
       "      <td>62630.000000</td>\n",
       "      <td>62630.000000</td>\n",
       "    </tr>\n",
       "    <tr>\n",
       "      <th>mean</th>\n",
       "      <td>31314.500000</td>\n",
       "      <td>1.654792e+09</td>\n",
       "      <td>15.970424</td>\n",
       "      <td>48.539499</td>\n",
       "      <td>1942.057528</td>\n",
       "      <td>670.021044</td>\n",
       "      <td>12942.453936</td>\n",
       "      <td>19754.257912</td>\n",
       "      <td>938.627649</td>\n",
       "      <td>100.594309</td>\n",
       "      <td>184.467770</td>\n",
       "      <td>491.463608</td>\n",
       "      <td>203.586487</td>\n",
       "      <td>80.049042</td>\n",
       "      <td>10511.386157</td>\n",
       "      <td>0.714626</td>\n",
       "    </tr>\n",
       "    <tr>\n",
       "      <th>std</th>\n",
       "      <td>18079.868017</td>\n",
       "      <td>1.100025e+05</td>\n",
       "      <td>14.359576</td>\n",
       "      <td>8.865367</td>\n",
       "      <td>7811.589055</td>\n",
       "      <td>1905.885439</td>\n",
       "      <td>272.464305</td>\n",
       "      <td>609.513156</td>\n",
       "      <td>1.331344</td>\n",
       "      <td>922.524245</td>\n",
       "      <td>1976.305615</td>\n",
       "      <td>4265.661251</td>\n",
       "      <td>2214.738556</td>\n",
       "      <td>1083.383189</td>\n",
       "      <td>7597.870997</td>\n",
       "      <td>0.451596</td>\n",
       "    </tr>\n",
       "    <tr>\n",
       "      <th>min</th>\n",
       "      <td>0.000000</td>\n",
       "      <td>1.654712e+09</td>\n",
       "      <td>-22.010000</td>\n",
       "      <td>10.740000</td>\n",
       "      <td>0.000000</td>\n",
       "      <td>400.000000</td>\n",
       "      <td>10668.000000</td>\n",
       "      <td>15317.000000</td>\n",
       "      <td>930.852000</td>\n",
       "      <td>0.000000</td>\n",
       "      <td>0.000000</td>\n",
       "      <td>0.000000</td>\n",
       "      <td>0.000000</td>\n",
       "      <td>0.000000</td>\n",
       "      <td>0.000000</td>\n",
       "      <td>0.000000</td>\n",
       "    </tr>\n",
       "    <tr>\n",
       "      <th>25%</th>\n",
       "      <td>15657.250000</td>\n",
       "      <td>1.654743e+09</td>\n",
       "      <td>10.994250</td>\n",
       "      <td>47.530000</td>\n",
       "      <td>130.000000</td>\n",
       "      <td>400.000000</td>\n",
       "      <td>12830.000000</td>\n",
       "      <td>19435.000000</td>\n",
       "      <td>938.700000</td>\n",
       "      <td>1.280000</td>\n",
       "      <td>1.340000</td>\n",
       "      <td>8.820000</td>\n",
       "      <td>1.384000</td>\n",
       "      <td>0.033000</td>\n",
       "      <td>3625.250000</td>\n",
       "      <td>0.000000</td>\n",
       "    </tr>\n",
       "    <tr>\n",
       "      <th>50%</th>\n",
       "      <td>31314.500000</td>\n",
       "      <td>1.654762e+09</td>\n",
       "      <td>20.130000</td>\n",
       "      <td>50.150000</td>\n",
       "      <td>981.000000</td>\n",
       "      <td>400.000000</td>\n",
       "      <td>12924.000000</td>\n",
       "      <td>19501.000000</td>\n",
       "      <td>938.816000</td>\n",
       "      <td>1.810000</td>\n",
       "      <td>1.880000</td>\n",
       "      <td>12.450000</td>\n",
       "      <td>1.943000</td>\n",
       "      <td>0.044000</td>\n",
       "      <td>9336.000000</td>\n",
       "      <td>1.000000</td>\n",
       "    </tr>\n",
       "    <tr>\n",
       "      <th>75%</th>\n",
       "      <td>46971.750000</td>\n",
       "      <td>1.654778e+09</td>\n",
       "      <td>25.409500</td>\n",
       "      <td>53.240000</td>\n",
       "      <td>1189.000000</td>\n",
       "      <td>438.000000</td>\n",
       "      <td>13109.000000</td>\n",
       "      <td>20078.000000</td>\n",
       "      <td>939.418000</td>\n",
       "      <td>2.090000</td>\n",
       "      <td>2.180000</td>\n",
       "      <td>14.420000</td>\n",
       "      <td>2.249000</td>\n",
       "      <td>0.051000</td>\n",
       "      <td>17164.750000</td>\n",
       "      <td>1.000000</td>\n",
       "    </tr>\n",
       "    <tr>\n",
       "      <th>max</th>\n",
       "      <td>62629.000000</td>\n",
       "      <td>1.655130e+09</td>\n",
       "      <td>59.930000</td>\n",
       "      <td>75.200000</td>\n",
       "      <td>60000.000000</td>\n",
       "      <td>60000.000000</td>\n",
       "      <td>13803.000000</td>\n",
       "      <td>21410.000000</td>\n",
       "      <td>939.861000</td>\n",
       "      <td>14333.690000</td>\n",
       "      <td>45432.260000</td>\n",
       "      <td>61482.030000</td>\n",
       "      <td>51914.680000</td>\n",
       "      <td>30026.438000</td>\n",
       "      <td>24993.000000</td>\n",
       "      <td>1.000000</td>\n",
       "    </tr>\n",
       "  </tbody>\n",
       "</table>\n",
       "</div>"
      ],
      "text/plain": [
       "         Unnamed: 0           UTC  Temperature[C]   Humidity[%]     TVOC[ppb]  \\\n",
       "count  62630.000000  6.263000e+04    62630.000000  62630.000000  62630.000000   \n",
       "mean   31314.500000  1.654792e+09       15.970424     48.539499   1942.057528   \n",
       "std    18079.868017  1.100025e+05       14.359576      8.865367   7811.589055   \n",
       "min        0.000000  1.654712e+09      -22.010000     10.740000      0.000000   \n",
       "25%    15657.250000  1.654743e+09       10.994250     47.530000    130.000000   \n",
       "50%    31314.500000  1.654762e+09       20.130000     50.150000    981.000000   \n",
       "75%    46971.750000  1.654778e+09       25.409500     53.240000   1189.000000   \n",
       "max    62629.000000  1.655130e+09       59.930000     75.200000  60000.000000   \n",
       "\n",
       "          eCO2[ppm]        Raw H2   Raw Ethanol  Pressure[hPa]         PM1.0  \\\n",
       "count  62630.000000  62630.000000  62630.000000   62630.000000  62630.000000   \n",
       "mean     670.021044  12942.453936  19754.257912     938.627649    100.594309   \n",
       "std     1905.885439    272.464305    609.513156       1.331344    922.524245   \n",
       "min      400.000000  10668.000000  15317.000000     930.852000      0.000000   \n",
       "25%      400.000000  12830.000000  19435.000000     938.700000      1.280000   \n",
       "50%      400.000000  12924.000000  19501.000000     938.816000      1.810000   \n",
       "75%      438.000000  13109.000000  20078.000000     939.418000      2.090000   \n",
       "max    60000.000000  13803.000000  21410.000000     939.861000  14333.690000   \n",
       "\n",
       "              PM2.5         NC0.5         NC1.0         NC2.5           CNT  \\\n",
       "count  62630.000000  62630.000000  62630.000000  62630.000000  62630.000000   \n",
       "mean     184.467770    491.463608    203.586487     80.049042  10511.386157   \n",
       "std     1976.305615   4265.661251   2214.738556   1083.383189   7597.870997   \n",
       "min        0.000000      0.000000      0.000000      0.000000      0.000000   \n",
       "25%        1.340000      8.820000      1.384000      0.033000   3625.250000   \n",
       "50%        1.880000     12.450000      1.943000      0.044000   9336.000000   \n",
       "75%        2.180000     14.420000      2.249000      0.051000  17164.750000   \n",
       "max    45432.260000  61482.030000  51914.680000  30026.438000  24993.000000   \n",
       "\n",
       "         Fire Alarm  \n",
       "count  62630.000000  \n",
       "mean       0.714626  \n",
       "std        0.451596  \n",
       "min        0.000000  \n",
       "25%        0.000000  \n",
       "50%        1.000000  \n",
       "75%        1.000000  \n",
       "max        1.000000  "
      ]
     },
     "execution_count": 8,
     "metadata": {},
     "output_type": "execute_result"
    }
   ],
   "source": [
    "data.describe()"
   ]
  },
  {
   "cell_type": "markdown",
   "metadata": {},
   "source": [
    "# Unnamed are serial number so it can be dropped similarly utc and cnt are time and count so it can also be dropped"
   ]
  },
  {
   "cell_type": "code",
   "execution_count": 9,
   "metadata": {},
   "outputs": [],
   "source": [
    "data.drop(columns=['Unnamed: 0', 'UTC', 'CNT'],inplace=True)"
   ]
  },
  {
   "cell_type": "code",
   "execution_count": 10,
   "metadata": {},
   "outputs": [
    {
     "data": {
      "text/plain": [
       "(62630, 13)"
      ]
     },
     "execution_count": 10,
     "metadata": {},
     "output_type": "execute_result"
    }
   ],
   "source": [
    "data.shape"
   ]
  },
  {
   "cell_type": "markdown",
   "metadata": {},
   "source": [
    "# Below show Bar graph how Data is distributed "
   ]
  },
  {
   "cell_type": "code",
   "execution_count": 11,
   "metadata": {},
   "outputs": [
    {
     "data": {
      "text/plain": [
       "array([[<matplotlib.axes._subplots.AxesSubplot object at 0x00000259A4CE30C8>,\n",
       "        <matplotlib.axes._subplots.AxesSubplot object at 0x00000259A4D2A688>,\n",
       "        <matplotlib.axes._subplots.AxesSubplot object at 0x00000259A4D6AE48>,\n",
       "        <matplotlib.axes._subplots.AxesSubplot object at 0x00000259A5580708>],\n",
       "       [<matplotlib.axes._subplots.AxesSubplot object at 0x00000259A55B8808>,\n",
       "        <matplotlib.axes._subplots.AxesSubplot object at 0x00000259A55EF948>,\n",
       "        <matplotlib.axes._subplots.AxesSubplot object at 0x00000259A5626A48>,\n",
       "        <matplotlib.axes._subplots.AxesSubplot object at 0x00000259A565EB48>],\n",
       "       [<matplotlib.axes._subplots.AxesSubplot object at 0x00000259A566A748>,\n",
       "        <matplotlib.axes._subplots.AxesSubplot object at 0x00000259A56A2908>,\n",
       "        <matplotlib.axes._subplots.AxesSubplot object at 0x00000259A5706E48>,\n",
       "        <matplotlib.axes._subplots.AxesSubplot object at 0x00000259A573EF88>],\n",
       "       [<matplotlib.axes._subplots.AxesSubplot object at 0x00000259A577D108>,\n",
       "        <matplotlib.axes._subplots.AxesSubplot object at 0x00000259A57B5188>,\n",
       "        <matplotlib.axes._subplots.AxesSubplot object at 0x00000259A57EC388>,\n",
       "        <matplotlib.axes._subplots.AxesSubplot object at 0x00000259A5825588>]],\n",
       "      dtype=object)"
      ]
     },
     "execution_count": 11,
     "metadata": {},
     "output_type": "execute_result"
    },
    {
     "data": {
      "image/png": "[encoded data removed]",
      "text/plain": [
       "<Figure size 1440x1800 with 16 Axes>"
      ]
     },
     "metadata": {
      "needs_background": "light"
     },
     "output_type": "display_data"
    }
   ],
   "source": [
    "data.hist(bins=10, figsize=(20,25))"
   ]
  },
  {
   "cell_type": "code",
   "execution_count": 12,
   "metadata": {},
   "outputs": [
    {
     "data": {
      "text/html": [
       "<div>\n",
       "<style scoped>\n",
       "    .dataframe tbody tr th:only-of-type {\n",
       "        vertical-align: middle;\n",
       "    }\n",
       "\n",
       "    .dataframe tbody tr th {\n",
       "        vertical-align: top;\n",
       "    }\n",
       "\n",
       "    .dataframe thead th {\n",
       "        text-align: right;\n",
       "    }\n",
       "</style>\n",
       "<table border=\"1\" class=\"dataframe\">\n",
       "  <thead>\n",
       "    <tr style=\"text-align: right;\">\n",
       "      <th></th>\n",
       "      <th>Temperature[C]</th>\n",
       "      <th>Humidity[%]</th>\n",
       "      <th>TVOC[ppb]</th>\n",
       "      <th>eCO2[ppm]</th>\n",
       "      <th>Raw H2</th>\n",
       "      <th>Raw Ethanol</th>\n",
       "      <th>Pressure[hPa]</th>\n",
       "      <th>PM1.0</th>\n",
       "      <th>PM2.5</th>\n",
       "      <th>NC0.5</th>\n",
       "      <th>NC1.0</th>\n",
       "      <th>NC2.5</th>\n",
       "      <th>Fire Alarm</th>\n",
       "    </tr>\n",
       "  </thead>\n",
       "  <tbody>\n",
       "    <tr>\n",
       "      <th>Temperature[C]</th>\n",
       "      <td>1.000000</td>\n",
       "      <td>-0.243986</td>\n",
       "      <td>0.082442</td>\n",
       "      <td>0.079265</td>\n",
       "      <td>-0.135540</td>\n",
       "      <td>-0.037343</td>\n",
       "      <td>-0.251203</td>\n",
       "      <td>0.037330</td>\n",
       "      <td>0.032084</td>\n",
       "      <td>0.039291</td>\n",
       "      <td>0.031608</td>\n",
       "      <td>0.025526</td>\n",
       "      <td>-0.163902</td>\n",
       "    </tr>\n",
       "    <tr>\n",
       "      <th>Humidity[%]</th>\n",
       "      <td>-0.243986</td>\n",
       "      <td>1.000000</td>\n",
       "      <td>-0.488878</td>\n",
       "      <td>-0.369095</td>\n",
       "      <td>0.247199</td>\n",
       "      <td>0.068782</td>\n",
       "      <td>0.694614</td>\n",
       "      <td>-0.236538</td>\n",
       "      <td>-0.178882</td>\n",
       "      <td>-0.277389</td>\n",
       "      <td>-0.174224</td>\n",
       "      <td>-0.118502</td>\n",
       "      <td>0.399846</td>\n",
       "    </tr>\n",
       "    <tr>\n",
       "      <th>TVOC[ppb]</th>\n",
       "      <td>0.082442</td>\n",
       "      <td>-0.488878</td>\n",
       "      <td>1.000000</td>\n",
       "      <td>0.606118</td>\n",
       "      <td>-0.653053</td>\n",
       "      <td>-0.673715</td>\n",
       "      <td>-0.220004</td>\n",
       "      <td>0.597366</td>\n",
       "      <td>0.477424</td>\n",
       "      <td>0.670657</td>\n",
       "      <td>0.467386</td>\n",
       "      <td>0.344721</td>\n",
       "      <td>-0.214743</td>\n",
       "    </tr>\n",
       "    <tr>\n",
       "      <th>eCO2[ppm]</th>\n",
       "      <td>0.079265</td>\n",
       "      <td>-0.369095</td>\n",
       "      <td>0.606118</td>\n",
       "      <td>1.000000</td>\n",
       "      <td>-0.682785</td>\n",
       "      <td>-0.506695</td>\n",
       "      <td>-0.326043</td>\n",
       "      <td>0.665482</td>\n",
       "      <td>0.572691</td>\n",
       "      <td>0.699604</td>\n",
       "      <td>0.564252</td>\n",
       "      <td>0.456323</td>\n",
       "      <td>-0.097006</td>\n",
       "    </tr>\n",
       "    <tr>\n",
       "      <th>Raw H2</th>\n",
       "      <td>-0.135540</td>\n",
       "      <td>0.247199</td>\n",
       "      <td>-0.653053</td>\n",
       "      <td>-0.682785</td>\n",
       "      <td>1.000000</td>\n",
       "      <td>0.631495</td>\n",
       "      <td>0.303090</td>\n",
       "      <td>-0.530714</td>\n",
       "      <td>-0.431079</td>\n",
       "      <td>-0.587769</td>\n",
       "      <td>-0.422626</td>\n",
       "      <td>-0.318518</td>\n",
       "      <td>0.107007</td>\n",
       "    </tr>\n",
       "    <tr>\n",
       "      <th>Raw Ethanol</th>\n",
       "      <td>-0.037343</td>\n",
       "      <td>0.068782</td>\n",
       "      <td>-0.673715</td>\n",
       "      <td>-0.506695</td>\n",
       "      <td>0.631495</td>\n",
       "      <td>1.000000</td>\n",
       "      <td>-0.075926</td>\n",
       "      <td>-0.480698</td>\n",
       "      <td>-0.393192</td>\n",
       "      <td>-0.529186</td>\n",
       "      <td>-0.385720</td>\n",
       "      <td>-0.293351</td>\n",
       "      <td>-0.340652</td>\n",
       "    </tr>\n",
       "    <tr>\n",
       "      <th>Pressure[hPa]</th>\n",
       "      <td>-0.251203</td>\n",
       "      <td>0.694614</td>\n",
       "      <td>-0.220004</td>\n",
       "      <td>-0.326043</td>\n",
       "      <td>0.303090</td>\n",
       "      <td>-0.075926</td>\n",
       "      <td>1.000000</td>\n",
       "      <td>-0.258938</td>\n",
       "      <td>-0.243071</td>\n",
       "      <td>-0.248657</td>\n",
       "      <td>-0.241148</td>\n",
       "      <td>-0.213390</td>\n",
       "      <td>0.249797</td>\n",
       "    </tr>\n",
       "    <tr>\n",
       "      <th>PM1.0</th>\n",
       "      <td>0.037330</td>\n",
       "      <td>-0.236538</td>\n",
       "      <td>0.597366</td>\n",
       "      <td>0.665482</td>\n",
       "      <td>-0.530714</td>\n",
       "      <td>-0.480698</td>\n",
       "      <td>-0.258938</td>\n",
       "      <td>1.000000</td>\n",
       "      <td>0.956118</td>\n",
       "      <td>0.940045</td>\n",
       "      <td>0.949860</td>\n",
       "      <td>0.854901</td>\n",
       "      <td>-0.110552</td>\n",
       "    </tr>\n",
       "    <tr>\n",
       "      <th>PM2.5</th>\n",
       "      <td>0.032084</td>\n",
       "      <td>-0.178882</td>\n",
       "      <td>0.477424</td>\n",
       "      <td>0.572691</td>\n",
       "      <td>-0.431079</td>\n",
       "      <td>-0.393192</td>\n",
       "      <td>-0.243071</td>\n",
       "      <td>0.956118</td>\n",
       "      <td>1.000000</td>\n",
       "      <td>0.798873</td>\n",
       "      <td>0.999787</td>\n",
       "      <td>0.969382</td>\n",
       "      <td>-0.084916</td>\n",
       "    </tr>\n",
       "    <tr>\n",
       "      <th>NC0.5</th>\n",
       "      <td>0.039291</td>\n",
       "      <td>-0.277389</td>\n",
       "      <td>0.670657</td>\n",
       "      <td>0.699604</td>\n",
       "      <td>-0.587769</td>\n",
       "      <td>-0.529186</td>\n",
       "      <td>-0.248657</td>\n",
       "      <td>0.940045</td>\n",
       "      <td>0.798873</td>\n",
       "      <td>1.000000</td>\n",
       "      <td>0.786274</td>\n",
       "      <td>0.626711</td>\n",
       "      <td>-0.128118</td>\n",
       "    </tr>\n",
       "    <tr>\n",
       "      <th>NC1.0</th>\n",
       "      <td>0.031608</td>\n",
       "      <td>-0.174224</td>\n",
       "      <td>0.467386</td>\n",
       "      <td>0.564252</td>\n",
       "      <td>-0.422626</td>\n",
       "      <td>-0.385720</td>\n",
       "      <td>-0.241148</td>\n",
       "      <td>0.949860</td>\n",
       "      <td>0.999787</td>\n",
       "      <td>0.786274</td>\n",
       "      <td>1.000000</td>\n",
       "      <td>0.974249</td>\n",
       "      <td>-0.082828</td>\n",
       "    </tr>\n",
       "    <tr>\n",
       "      <th>NC2.5</th>\n",
       "      <td>0.025526</td>\n",
       "      <td>-0.118502</td>\n",
       "      <td>0.344721</td>\n",
       "      <td>0.456323</td>\n",
       "      <td>-0.318518</td>\n",
       "      <td>-0.293351</td>\n",
       "      <td>-0.213390</td>\n",
       "      <td>0.854901</td>\n",
       "      <td>0.969382</td>\n",
       "      <td>0.626711</td>\n",
       "      <td>0.974249</td>\n",
       "      <td>1.000000</td>\n",
       "      <td>-0.057707</td>\n",
       "    </tr>\n",
       "    <tr>\n",
       "      <th>Fire Alarm</th>\n",
       "      <td>-0.163902</td>\n",
       "      <td>0.399846</td>\n",
       "      <td>-0.214743</td>\n",
       "      <td>-0.097006</td>\n",
       "      <td>0.107007</td>\n",
       "      <td>-0.340652</td>\n",
       "      <td>0.249797</td>\n",
       "      <td>-0.110552</td>\n",
       "      <td>-0.084916</td>\n",
       "      <td>-0.128118</td>\n",
       "      <td>-0.082828</td>\n",
       "      <td>-0.057707</td>\n",
       "      <td>1.000000</td>\n",
       "    </tr>\n",
       "  </tbody>\n",
       "</table>\n",
       "</div>"
      ],
      "text/plain": [
       "                Temperature[C]  Humidity[%]  TVOC[ppb]  eCO2[ppm]    Raw H2  \\\n",
       "Temperature[C]        1.000000    -0.243986   0.082442   0.079265 -0.135540   \n",
       "Humidity[%]          -0.243986     1.000000  -0.488878  -0.369095  0.247199   \n",
       "TVOC[ppb]             0.082442    -0.488878   1.000000   0.606118 -0.653053   \n",
       "eCO2[ppm]             0.079265    -0.369095   0.606118   1.000000 -0.682785   \n",
       "Raw H2               -0.135540     0.247199  -0.653053  -0.682785  1.000000   \n",
       "Raw Ethanol          -0.037343     0.068782  -0.673715  -0.506695  0.631495   \n",
       "Pressure[hPa]        -0.251203     0.694614  -0.220004  -0.326043  0.303090   \n",
       "PM1.0                 0.037330    -0.236538   0.597366   0.665482 -0.530714   \n",
       "PM2.5                 0.032084    -0.178882   0.477424   0.572691 -0.431079   \n",
       "NC0.5                 0.039291    -0.277389   0.670657   0.699604 -0.587769   \n",
       "NC1.0                 0.031608    -0.174224   0.467386   0.564252 -0.422626   \n",
       "NC2.5                 0.025526    -0.118502   0.344721   0.456323 -0.318518   \n",
       "Fire Alarm           -0.163902     0.399846  -0.214743  -0.097006  0.107007   \n",
       "\n",
       "                Raw Ethanol  Pressure[hPa]     PM1.0     PM2.5     NC0.5  \\\n",
       "Temperature[C]    -0.037343      -0.251203  0.037330  0.032084  0.039291   \n",
       "Humidity[%]        0.068782       0.694614 -0.236538 -0.178882 -0.277389   \n",
       "TVOC[ppb]         -0.673715      -0.220004  0.597366  0.477424  0.670657   \n",
       "eCO2[ppm]         -0.506695      -0.326043  0.665482  0.572691  0.699604   \n",
       "Raw H2             0.631495       0.303090 -0.530714 -0.431079 -0.587769   \n",
       "Raw Ethanol        1.000000      -0.075926 -0.480698 -0.393192 -0.529186   \n",
       "Pressure[hPa]     -0.075926       1.000000 -0.258938 -0.243071 -0.248657   \n",
       "PM1.0             -0.480698      -0.258938  1.000000  0.956118  0.940045   \n",
       "PM2.5             -0.393192      -0.243071  0.956118  1.000000  0.798873   \n",
       "NC0.5             -0.529186      -0.248657  0.940045  0.798873  1.000000   \n",
       "NC1.0             -0.385720      -0.241148  0.949860  0.999787  0.786274   \n",
       "NC2.5             -0.293351      -0.213390  0.854901  0.969382  0.626711   \n",
       "Fire Alarm        -0.340652       0.249797 -0.110552 -0.084916 -0.128118   \n",
       "\n",
       "                   NC1.0     NC2.5  Fire Alarm  \n",
       "Temperature[C]  0.031608  0.025526   -0.163902  \n",
       "Humidity[%]    -0.174224 -0.118502    0.399846  \n",
       "TVOC[ppb]       0.467386  0.344721   -0.214743  \n",
       "eCO2[ppm]       0.564252  0.456323   -0.097006  \n",
       "Raw H2         -0.422626 -0.318518    0.107007  \n",
       "Raw Ethanol    -0.385720 -0.293351   -0.340652  \n",
       "Pressure[hPa]  -0.241148 -0.213390    0.249797  \n",
       "PM1.0           0.949860  0.854901   -0.110552  \n",
       "PM2.5           0.999787  0.969382   -0.084916  \n",
       "NC0.5           0.786274  0.626711   -0.128118  \n",
       "NC1.0           1.000000  0.974249   -0.082828  \n",
       "NC2.5           0.974249  1.000000   -0.057707  \n",
       "Fire Alarm     -0.082828 -0.057707    1.000000  "
      ]
     },
     "execution_count": 12,
     "metadata": {},
     "output_type": "execute_result"
    }
   ],
   "source": [
    "cor=data.corr()\n",
    "cor"
   ]
  },
  {
   "cell_type": "code",
   "execution_count": 13,
   "metadata": {},
   "outputs": [
    {
     "data": {
      "text/plain": [
       "(<Figure size 1080x648 with 1 Axes>,\n",
       " <matplotlib.axes._subplots.AxesSubplot at 0x259a8ac3288>)"
      ]
     },
     "execution_count": 13,
     "metadata": {},
     "output_type": "execute_result"
    },
    {
     "data": {
      "image/png": "[encoded data removed]",
      "text/plain": [
       "<Figure size 1080x648 with 1 Axes>"
      ]
     },
     "metadata": {
      "needs_background": "light"
     },
     "output_type": "display_data"
    }
   ],
   "source": [
    "plt.figure(figsize=(15,9)),sns.heatmap(cor,fmt=\".2f\", annot=True, cmap=\"PuBuGn\", center=0,\n",
    "           linewidths=0.01, linecolor='gray', cbar=False)"
   ]
  },
  {
   "cell_type": "markdown",
   "metadata": {},
   "source": [
    "# After doing correlation it shows NCo.5,Nc2.5,Nc1.0,Pm2.5 show strong realtion between them so we can select any 1 from them to reduce Multicolinearity  "
   ]
  },
  {
   "cell_type": "code",
   "execution_count": 14,
   "metadata": {},
   "outputs": [],
   "source": [
    "data.drop(columns=['NC0.5', 'NC1.0', 'NC2.5'],inplace=True)"
   ]
  },
  {
   "cell_type": "code",
   "execution_count": 15,
   "metadata": {},
   "outputs": [
    {
     "data": {
      "text/plain": [
       "(62630, 10)"
      ]
     },
     "execution_count": 15,
     "metadata": {},
     "output_type": "execute_result"
    }
   ],
   "source": [
    "data.shape"
   ]
  },
  {
   "cell_type": "markdown",
   "metadata": {},
   "source": [
    "# Data is now divide into dependent and independent variable "
   ]
  },
  {
   "cell_type": "code",
   "execution_count": 16,
   "metadata": {},
   "outputs": [],
   "source": [
    "x = data.iloc[:,:-1]\n",
    "y = data['Fire Alarm'] "
   ]
  },
  {
   "cell_type": "markdown",
   "metadata": {},
   "source": [
    "# Below are the library used for machine learning Algorithm"
   ]
  },
  {
   "cell_type": "code",
   "execution_count": 17,
   "metadata": {},
   "outputs": [],
   "source": [
    "from sklearn.model_selection import train_test_split\n",
    "from sklearn.preprocessing import StandardScaler\n",
    "from sklearn.linear_model import LogisticRegression\n",
    "from sklearn import metrics\n",
    "from sklearn.metrics import confusion_matrix"
   ]
  },
  {
   "cell_type": "markdown",
   "metadata": {},
   "source": [
    "# Data is split into training and testing set"
   ]
  },
  {
   "cell_type": "code",
   "execution_count": 18,
   "metadata": {},
   "outputs": [],
   "source": [
    "X_train,X_test,y_train,y_test = train_test_split(x,y,test_size=0.3,random_state=0)"
   ]
  },
  {
   "cell_type": "code",
   "execution_count": 19,
   "metadata": {},
   "outputs": [],
   "source": [
    "sc_X = StandardScaler()\n",
    "X_train = sc_X.fit_transform(X_train)\n",
    "X_test = sc_X.transform(X_test)"
   ]
  },
  {
   "cell_type": "markdown",
   "metadata": {},
   "source": [
    "# Logistic Regression"
   ]
  },
  {
   "cell_type": "code",
   "execution_count": 20,
   "metadata": {},
   "outputs": [],
   "source": [
    "#instantiate the model\n",
    "log_regression = LogisticRegression()\n",
    "\n",
    "#fit the model using the training data\n",
    "model=log_regression.fit(X_train,y_train)\n",
    "\n",
    "#use model to make predictions on test data\n",
    "y_pred = log_regression.predict(X_test)"
   ]
  },
  {
   "cell_type": "code",
   "execution_count": 21,
   "metadata": {},
   "outputs": [
    {
     "name": "stdout",
     "output_type": "stream",
     "text": [
      "Accuracy: 0.8982915535685774\n"
     ]
    }
   ],
   "source": [
    "print(\"Accuracy:\",metrics.accuracy_score(y_test, y_pred))"
   ]
  },
  {
   "cell_type": "code",
   "execution_count": 22,
   "metadata": {},
   "outputs": [
    {
     "data": {
      "text/plain": [
       "array([[ 4151,  1272],\n",
       "       [  639, 12727]], dtype=int64)"
      ]
     },
     "execution_count": 22,
     "metadata": {},
     "output_type": "execute_result"
    }
   ],
   "source": [
    "cm = confusion_matrix(y_test, y_pred)\n",
    "cm"
   ]
  },
  {
   "cell_type": "code",
   "execution_count": 23,
   "metadata": {},
   "outputs": [
    {
     "name": "stdout",
     "output_type": "stream",
     "text": [
      "Precision score: 0.9091363668833488\n"
     ]
    }
   ],
   "source": [
    "from sklearn.metrics import precision_score\n",
    "print(\"Precision score:\", precision_score(y_test, y_pred))"
   ]
  },
  {
   "cell_type": "code",
   "execution_count": 24,
   "metadata": {},
   "outputs": [
    {
     "name": "stdout",
     "output_type": "stream",
     "text": [
      "Recall score: 0.952192129283256\n"
     ]
    }
   ],
   "source": [
    "from sklearn.metrics import recall_score\n",
    "print(\"Recall score:\", recall_score(y_test, y_pred))"
   ]
  },
  {
   "cell_type": "code",
   "execution_count": 25,
   "metadata": {},
   "outputs": [
    {
     "name": "stdout",
     "output_type": "stream",
     "text": [
      "f1: 0.930166270783848\n"
     ]
    }
   ],
   "source": [
    "from sklearn.metrics import f1_score\n",
    "print(\"f1:\", f1_score(y_test, y_pred))"
   ]
  },
  {
   "cell_type": "code",
   "execution_count": 26,
   "metadata": {},
   "outputs": [
    {
     "name": "stdout",
     "output_type": "stream",
     "text": [
      "              precision    recall  f1-score   support\n",
      "\n",
      "           0       0.87      0.77      0.81      5423\n",
      "           1       0.91      0.95      0.93     13366\n",
      "\n",
      "    accuracy                           0.90     18789\n",
      "   macro avg       0.89      0.86      0.87     18789\n",
      "weighted avg       0.90      0.90      0.90     18789\n",
      "\n"
     ]
    }
   ],
   "source": [
    "print(metrics.classification_report(y_test,y_pred))"
   ]
  },
  {
   "cell_type": "code",
   "execution_count": 55,
   "metadata": {},
   "outputs": [],
   "source": [
    "importancelr = model.coef_  # Feature importance show  in which 3 important feature are there"
   ]
  },
  {
   "cell_type": "code",
   "execution_count": 65,
   "metadata": {},
   "outputs": [
    {
     "data": {
      "text/plain": [
       "array([[ -1.080676  ,   1.40671292, -18.00719765,   5.81007588,\n",
       "          3.33866477,  -7.81855334,  -2.44936988,  -0.93251321,\n",
       "         -0.19533396]])"
      ]
     },
     "execution_count": 65,
     "metadata": {},
     "output_type": "execute_result"
    }
   ],
   "source": [
    "importancelr"
   ]
  },
  {
   "cell_type": "markdown",
   "metadata": {},
   "source": [
    "# SVM"
   ]
  },
  {
   "cell_type": "code",
   "execution_count": 27,
   "metadata": {},
   "outputs": [],
   "source": [
    "from sklearn.svm import SVC"
   ]
  },
  {
   "cell_type": "code",
   "execution_count": 28,
   "metadata": {},
   "outputs": [],
   "source": [
    "classifier = SVC(kernel = 'linear', random_state=0)"
   ]
  },
  {
   "cell_type": "code",
   "execution_count": 69,
   "metadata": {},
   "outputs": [],
   "source": [
    "sv=classifier.fit(X_train,y_train)"
   ]
  },
  {
   "cell_type": "code",
   "execution_count": 30,
   "metadata": {},
   "outputs": [
    {
     "data": {
      "text/plain": [
       "array([0, 1, 1, ..., 1, 1, 0], dtype=int64)"
      ]
     },
     "execution_count": 30,
     "metadata": {},
     "output_type": "execute_result"
    }
   ],
   "source": [
    "y_preds = classifier.predict(X_test)\n",
    "y_preds"
   ]
  },
  {
   "cell_type": "code",
   "execution_count": 31,
   "metadata": {},
   "outputs": [
    {
     "data": {
      "text/plain": [
       "array([[ 3861,  1562],\n",
       "       [  174, 13192]], dtype=int64)"
      ]
     },
     "execution_count": 31,
     "metadata": {},
     "output_type": "execute_result"
    }
   ],
   "source": [
    "cmSVc = ( confusion_matrix(y_test, y_preds))\n",
    "cmSVc"
   ]
  },
  {
   "cell_type": "code",
   "execution_count": 32,
   "metadata": {},
   "outputs": [
    {
     "data": {
      "text/plain": [
       "0.9076055138644952"
      ]
     },
     "execution_count": 32,
     "metadata": {},
     "output_type": "execute_result"
    }
   ],
   "source": [
    "from sklearn.metrics import accuracy_score\n",
    "ac = accuracy_score(y_test, y_preds)\n",
    "ac"
   ]
  },
  {
   "cell_type": "code",
   "execution_count": 33,
   "metadata": {},
   "outputs": [
    {
     "name": "stdout",
     "output_type": "stream",
     "text": [
      "              precision    recall  f1-score   support\n",
      "\n",
      "           0       0.96      0.71      0.82      5423\n",
      "           1       0.89      0.99      0.94     13366\n",
      "\n",
      "    accuracy                           0.91     18789\n",
      "   macro avg       0.93      0.85      0.88     18789\n",
      "weighted avg       0.91      0.91      0.90     18789\n",
      "\n"
     ]
    }
   ],
   "source": [
    "print(metrics.classification_report(y_test,y_preds))"
   ]
  },
  {
   "cell_type": "markdown",
   "metadata": {},
   "source": [
    "# KNN"
   ]
  },
  {
   "cell_type": "code",
   "execution_count": 35,
   "metadata": {},
   "outputs": [],
   "source": [
    "from sklearn.neighbors import KNeighborsClassifier\n",
    "Knn=KNeighborsClassifier()"
   ]
  },
  {
   "cell_type": "code",
   "execution_count": 36,
   "metadata": {},
   "outputs": [
    {
     "data": {
      "text/plain": [
       "KNeighborsClassifier()"
      ]
     },
     "execution_count": 36,
     "metadata": {},
     "output_type": "execute_result"
    }
   ],
   "source": [
    "Knn.fit(X_train,y_train)"
   ]
  },
  {
   "cell_type": "code",
   "execution_count": 37,
   "metadata": {},
   "outputs": [
    {
     "data": {
      "text/plain": [
       "array([0, 1, 1, ..., 0, 1, 0], dtype=int64)"
      ]
     },
     "execution_count": 37,
     "metadata": {},
     "output_type": "execute_result"
    }
   ],
   "source": [
    "y_predK = Knn.predict(X_test)\n",
    "y_predK"
   ]
  },
  {
   "cell_type": "code",
   "execution_count": 38,
   "metadata": {},
   "outputs": [
    {
     "data": {
      "text/plain": [
       "array([[ 5394,    29],\n",
       "       [   10, 13356]], dtype=int64)"
      ]
     },
     "execution_count": 38,
     "metadata": {},
     "output_type": "execute_result"
    }
   ],
   "source": [
    "cmKNN = ( confusion_matrix(y_test, y_predK))\n",
    "cmKNN"
   ]
  },
  {
   "cell_type": "code",
   "execution_count": 39,
   "metadata": {},
   "outputs": [
    {
     "data": {
      "text/plain": [
       "0.9979243174197668"
      ]
     },
     "execution_count": 39,
     "metadata": {},
     "output_type": "execute_result"
    }
   ],
   "source": [
    "ac = accuracy_score(y_test, y_predK)\n",
    "ac"
   ]
  },
  {
   "cell_type": "code",
   "execution_count": 40,
   "metadata": {},
   "outputs": [
    {
     "name": "stdout",
     "output_type": "stream",
     "text": [
      "              precision    recall  f1-score   support\n",
      "\n",
      "           0       1.00      0.99      1.00      5423\n",
      "           1       1.00      1.00      1.00     13366\n",
      "\n",
      "    accuracy                           1.00     18789\n",
      "   macro avg       1.00      1.00      1.00     18789\n",
      "weighted avg       1.00      1.00      1.00     18789\n",
      "\n"
     ]
    }
   ],
   "source": [
    "print(metrics.classification_report(y_test,y_predK))"
   ]
  },
  {
   "cell_type": "code",
   "execution_count": null,
   "metadata": {},
   "outputs": [],
   "source": []
  }
 ],
 "metadata": {
  "kernelspec": {
   "display_name": "Python 3",
   "language": "python",
   "name": "python3"
  },
  "language_info": {
   "codemirror_mode": {
    "name": "ipython",
    "version": 3
   },
   "file_extension": ".py",
   "mimetype": "text/x-python",
   "name": "python",
   "nbconvert_exporter": "python",
   "pygments_lexer": "ipython3",
   "version": "3.7.4"
  }
 },
 "nbformat": 4,
 "nbformat_minor": 2
}
